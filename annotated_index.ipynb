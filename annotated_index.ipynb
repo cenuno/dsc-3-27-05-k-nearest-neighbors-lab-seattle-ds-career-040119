{
 "cells": [
  {
   "cell_type": "markdown",
   "metadata": {},
   "source": [
    "# Annotated K-Nearest Neighbors - Lab\n",
    "\n",
    "## Introduction\n",
    "\n",
    "In this lesson, we'll walkthrough the key components to build a simple version of a **_K-Nearest Neigbors Classifier_** from scratch.\n",
    "\n",
    "## Objectives\n",
    "\n",
    "You will be able to:\n",
    "\n",
    "* Understand how to implement a basic KNN algorithm from scratch"
   ]
  },
  {
   "cell_type": "markdown",
   "metadata": {},
   "source": [
    "In order to build our KNN Classifier, we're going to import the [**_Iris Dataset_**](https://gist.github.com/curran/a08a1080b88344b0c8a7). \n",
    "\n",
    "![iris meme](iris_meme.jpeg)\n",
    "\n",
    "> This famous (Fisher's or Anderson's) `iris` data set gives the measurements in centimeters of the variables sepal length and width and petal length and width, respectively, for 50 flowers from each of 3 species of iris. The species are Iris setosa, versicolor, and virginica. - [R Documentation](https://stat.ethz.ch/R-manual/R-devel/library/datasets/html/iris.html)\n",
    "\n",
    "Using the length and width of both petals and sepals, we're going to use our KNN Classifier to predict the species of a small subset of `iris` records.\n"
   ]
  },
  {
   "cell_type": "code",
   "execution_count": 1,
   "metadata": {
    "collapsed": false,
    "scrolled": true
   },
   "outputs": [
    {
     "name": "stderr",
     "output_type": "stream",
     "text": [
      "/Users/cristiannuno/ENTER/lib/python3.5/site-packages/sklearn/utils/fixes.py:313: FutureWarning: numpy not_equal will not check object identity in the future. The comparison did not return the same result as suggested by the identity (`is`)) and will change.\n",
      "  _nan_object_mask = _nan_object_array != _nan_object_array\n"
     ]
    }
   ],
   "source": [
    "from scipy.spatial.distance import euclidean as euc\n",
    "import numpy as np\n",
    "np.random.seed(0)\n",
    "from sklearn.datasets import load_iris\n",
    "from sklearn.model_selection import train_test_split\n",
    "from sklearn.metrics import accuracy_score\n",
    "\n",
    "iris = load_iris()\n",
    "data = iris[\"data\"]\n",
    "target = iris[\"target\"]"
   ]
  },
  {
   "cell_type": "markdown",
   "metadata": {},
   "source": [
    "As we can see, `data` has 4-columns, one for each type of measurement."
   ]
  },
  {
   "cell_type": "code",
   "execution_count": 2,
   "metadata": {
    "collapsed": false
   },
   "outputs": [
    {
     "data": {
      "text/plain": [
       "array([[ 5.1,  3.5,  1.4,  0.2],\n",
       "       [ 4.9,  3. ,  1.4,  0.2],\n",
       "       [ 4.7,  3.2,  1.3,  0.2],\n",
       "       [ 4.6,  3.1,  1.5,  0.2],\n",
       "       [ 5. ,  3.6,  1.4,  0.2]])"
      ]
     },
     "execution_count": 2,
     "metadata": {},
     "output_type": "execute_result"
    }
   ],
   "source": [
    "data[:5]"
   ]
  },
  {
   "cell_type": "markdown",
   "metadata": {},
   "source": [
    "However, `target` has numerical values of `0`, `1`, and `2` to identify the `species` of each flower:\n",
    "\n",
    "* 0 = setosa\n",
    "* 1 = versicolor\n",
    "* 2 = virginica"
   ]
  },
  {
   "cell_type": "code",
   "execution_count": 3,
   "metadata": {
    "collapsed": false
   },
   "outputs": [
    {
     "data": {
      "text/plain": [
       "array([0, 0, 0, 0, 0])"
      ]
     },
     "execution_count": 3,
     "metadata": {},
     "output_type": "execute_result"
    }
   ],
   "source": [
    "target[:5]"
   ]
  },
  {
   "cell_type": "markdown",
   "metadata": {},
   "source": [
    "Now, you'll need to use `train_test_split()` to split our training data into training and testing sets. Pass in the `data`, the `target`, a `test_size` of 0.25, and `random_state` of 2019 for reproducibility."
   ]
  },
  {
   "cell_type": "code",
   "execution_count": 4,
   "metadata": {
    "collapsed": true
   },
   "outputs": [],
   "source": [
    "X_train, X_test, y_train, y_test = train_test_split(data,\n",
    "                                                    target,\n",
    "                                                    test_size=0.25,\n",
    "                                                    random_state=2019)"
   ]
  },
  {
   "cell_type": "markdown",
   "metadata": {},
   "source": [
    "## Calculating distance\n",
    "\n",
    "Each item in `X_test` is a vector (one row from the original `data` array). Our current goal is to calculate the [Euclidean distance](https://docs.scipy.org/doc/scipy/reference/generated/scipy.spatial.distance.euclidean.html#scipy.spatial.distance.euclidean) between each item in `X_test` and every vector in `X_train`."
   ]
  },
  {
   "cell_type": "code",
   "execution_count": 5,
   "metadata": {
    "collapsed": false,
    "scrolled": true
   },
   "outputs": [
    {
     "data": {
      "text/plain": [
       "array([ 4.4,  3.2,  1.3,  0.2])"
      ]
     },
     "execution_count": 5,
     "metadata": {},
     "output_type": "execute_result"
    }
   ],
   "source": [
    "X_test[0]"
   ]
  },
  {
   "cell_type": "code",
   "execution_count": 6,
   "metadata": {
    "collapsed": false
   },
   "outputs": [
    {
     "data": {
      "text/plain": [
       "array([ 4.3,  3. ,  1.1,  0.1])"
      ]
     },
     "execution_count": 6,
     "metadata": {},
     "output_type": "execute_result"
    }
   ],
   "source": [
    "X_train[0]"
   ]
  },
  {
   "cell_type": "code",
   "execution_count": 7,
   "metadata": {
    "collapsed": false
   },
   "outputs": [
    {
     "data": {
      "text/plain": [
       "0.31622776601683816"
      ]
     },
     "execution_count": 7,
     "metadata": {},
     "output_type": "execute_result"
    }
   ],
   "source": [
    "euc(X_test[0], X_train[0])"
   ]
  },
  {
   "cell_type": "markdown",
   "metadata": {},
   "source": [
    "While we could build an empty list and append each result from `euc()` inside of the list, I wanted to try it using an empty numpy array instead!"
   ]
  },
  {
   "cell_type": "markdown",
   "metadata": {},
   "source": [
    "### Introducing structured arrays\n",
    "\n",
    "> Structured arrays are ndarrays whose datatype is a composition of simpler datatypes organized as a sequence of named [fields](https://docs.scipy.org/doc/numpy/glossary.html#term-field).\n",
    "\n",
    "> Each field within a structured datatype has a name, a datatype, and a byte offset within the structure. Structured datatypes may be created using the function [`numpy.dtype()`](https://docs.scipy.org/doc/numpy/reference/generated/numpy.dtype.html#numpy.dtype).\n",
    "\n",
    "While there are four [Data Types](https://docs.scipy.org/doc/numpy/reference/arrays.dtypes.html#arrays-dtypes-constructing), we'll only be talking about a list of tuples (one tuple per field).\n",
    "\n",
    "#### List of tuples in an array\n",
    "> Each tuple has the form (`fieldname`, `datatype`, `shape`) where `shape` is optional. `fieldname` is a string (or tuple if titles are used, see Field Titles below), `datatype` may be any object convertible to a datatype, and `shape` is a tuple of integers specifying subarray shape."
   ]
  },
  {
   "cell_type": "markdown",
   "metadata": {},
   "source": [
    "The newly created `custom_dtype` specifies a `datatype` that is a list of tuples, with the first element an integer named \"index\" and the second element a float named \"distance\"."
   ]
  },
  {
   "cell_type": "code",
   "execution_count": 8,
   "metadata": {
    "collapsed": false,
    "scrolled": true
   },
   "outputs": [
    {
     "data": {
      "text/plain": [
       "dtype([('index', '<i8'), ('distance', '<f8')])"
      ]
     },
     "execution_count": 8,
     "metadata": {},
     "output_type": "execute_result"
    }
   ],
   "source": [
    "custom_dtype = np.dtype([(\"index\", \"int\"), (\"distance\", \"float64\")])\n",
    "custom_dtype"
   ]
  },
  {
   "cell_type": "markdown",
   "metadata": {},
   "source": [
    "Unlike an empty list, an [empty numpy array](https://docs.scipy.org/doc/numpy/reference/generated/numpy.zeros.html) **requires** us to know the final length of the object prior to creating it."
   ]
  },
  {
   "cell_type": "code",
   "execution_count": 9,
   "metadata": {
    "collapsed": false
   },
   "outputs": [
    {
     "data": {
      "text/plain": [
       "array([(0, 0.0), (0, 0.0), (0, 0.0), (0, 0.0)], \n",
       "      dtype=[('index', '<i8'), ('distance', '<f8')])"
      ]
     },
     "execution_count": 9,
     "metadata": {},
     "output_type": "execute_result"
    }
   ],
   "source": [
    "empty_array = np.zeros(4, dtype=custom_dtype)\n",
    "empty_array"
   ]
  },
  {
   "cell_type": "markdown",
   "metadata": {},
   "source": [
    "To reassign elements in an array, we need to index the array and supply the new information on the right hand side."
   ]
  },
  {
   "cell_type": "code",
   "execution_count": 10,
   "metadata": {
    "collapsed": false
   },
   "outputs": [
    {
     "data": {
      "text/plain": [
       "array([(0, 2.2), (1, 6.5), (2, 1.1), (3, 7.7)], \n",
       "      dtype=[('index', '<i8'), ('distance', '<f8')])"
      ]
     },
     "execution_count": 10,
     "metadata": {},
     "output_type": "execute_result"
    }
   ],
   "source": [
    "empty_array[0] = (0, 2.2)\n",
    "empty_array[1] = (1, 6.5)\n",
    "empty_array[2] = (2, 1.1)\n",
    "empty_array[3] = (3, 7.7)\n",
    "empty_array"
   ]
  },
  {
   "cell_type": "markdown",
   "metadata": {},
   "source": [
    "By naming each element in the list of tuples, we can index `empty_array` to only access specific elements by their `fieldname`. \n",
    "\n",
    "The result is 1-dimensional array."
   ]
  },
  {
   "cell_type": "code",
   "execution_count": 11,
   "metadata": {
    "collapsed": false
   },
   "outputs": [
    {
     "data": {
      "text/plain": [
       "array([0, 1, 2, 3])"
      ]
     },
     "execution_count": 11,
     "metadata": {},
     "output_type": "execute_result"
    }
   ],
   "source": [
    "empty_array[\"index\"]"
   ]
  },
  {
   "cell_type": "code",
   "execution_count": 12,
   "metadata": {
    "collapsed": false
   },
   "outputs": [
    {
     "data": {
      "text/plain": [
       "array([ 2.2,  6.5,  1.1,  7.7])"
      ]
     },
     "execution_count": 12,
     "metadata": {},
     "output_type": "execute_result"
    }
   ],
   "source": [
    "empty_array[\"distance\"]"
   ]
  },
  {
   "cell_type": "markdown",
   "metadata": {},
   "source": [
    "With this knowledge in our pocket, let's create `get_distance()`."
   ]
  },
  {
   "cell_type": "code",
   "execution_count": 13,
   "metadata": {
    "collapsed": true
   },
   "outputs": [],
   "source": [
    "def get_distances(x):\n",
    "    \"\"\"\n",
    "    Calculate the Euclidean distance between the input array and every other vector in our training set\n",
    "    \"\"\"\n",
    "    custom_dtype = np.dtype([(\"index\", \"int\"), (\"distance\", \"float64\")])\n",
    "    \n",
    "    distances = np.zeros(len(X_train), dtype=custom_dtype)\n",
    "    \n",
    "    for ind, val in enumerate(X_train):\n",
    "        dist_to_val = euc(x, val)\n",
    "        distances[ind] = (ind, dist_to_val)\n",
    "    \n",
    "    return distances\n"
   ]
  },
  {
   "cell_type": "code",
   "execution_count": 14,
   "metadata": {
    "collapsed": true
   },
   "outputs": [],
   "source": [
    "distances = get_distances(X_test[0])"
   ]
  },
  {
   "cell_type": "code",
   "execution_count": 15,
   "metadata": {
    "collapsed": false
   },
   "outputs": [
    {
     "data": {
      "text/plain": [
       "array([(0, 0.31622776601683816), (1, 4.611941023040083),\n",
       "       (2, 1.1180339887498942), (3, 3.2695565448543626),\n",
       "       (4, 0.3162277660168373), (5, 5.923681287847955),\n",
       "       (6, 3.661966684720111), (7, 3.9509492530276824),\n",
       "       (8, 0.5099019513592781), (9, 2.1633307652783933)], \n",
       "      dtype=[('index', '<i8'), ('distance', '<f8')])"
      ]
     },
     "execution_count": 15,
     "metadata": {},
     "output_type": "execute_result"
    }
   ],
   "source": [
    "distances[:10]"
   ]
  },
  {
   "cell_type": "code",
   "execution_count": 16,
   "metadata": {
    "collapsed": false
   },
   "outputs": [
    {
     "data": {
      "text/plain": [
       "array([0, 1, 2, 3, 4, 5, 6, 7, 8, 9])"
      ]
     },
     "execution_count": 16,
     "metadata": {},
     "output_type": "execute_result"
    }
   ],
   "source": [
    "distances[\"index\"][:10]"
   ]
  },
  {
   "cell_type": "code",
   "execution_count": 17,
   "metadata": {
    "collapsed": false
   },
   "outputs": [
    {
     "data": {
      "text/plain": [
       "array([ 0.31622777,  4.61194102,  1.11803399,  3.26955654,  0.31622777,\n",
       "        5.92368129,  3.66196668,  3.95094925,  0.50990195,  2.16333077])"
      ]
     },
     "execution_count": 17,
     "metadata": {},
     "output_type": "execute_result"
    }
   ],
   "source": [
    "distances[\"distance\"][:10]"
   ]
  },
  {
   "cell_type": "markdown",
   "metadata": {},
   "source": [
    "## Identifying K Nearest Neighbors\n",
    "\n",
    "Now that we have our distances between `X_test[0]` and every vector in `X_train`, let's limit the results to only those that are most like `X_test[0]` (i.e. those with the smallest distances are more similar; those with larger distances are less similar)"
   ]
  },
  {
   "cell_type": "code",
   "execution_count": 18,
   "metadata": {
    "collapsed": false
   },
   "outputs": [
    {
     "data": {
      "text/plain": [
       "array([(2, 1.1), (0, 2.2), (1, 6.5), (3, 7.7)], \n",
       "      dtype=[('index', '<i8'), ('distance', '<f8')])"
      ]
     },
     "execution_count": 18,
     "metadata": {},
     "output_type": "execute_result"
    }
   ],
   "source": [
    "empty_array.sort(order=\"distance\")\n",
    "empty_array"
   ]
  },
  {
   "cell_type": "markdown",
   "metadata": {},
   "source": [
    "### Sorting a list of tuples by `fieldname`\n",
    "\n",
    "Because `distances` is an array with a list of named tuples, we can use [`np.sort()`](https://docs.scipy.org/doc/numpy/reference/generated/numpy.sort.html) to return a sorted copy of `distances` by the values in one or more `fieldname`'s. In this case, we want `distances` that are closest to zero.\n",
    "\n",
    "As is, `np.sort()` returns a copy of the array in ascending order. By supplying `k`, we can limit the number of distances returned."
   ]
  },
  {
   "cell_type": "code",
   "execution_count": 19,
   "metadata": {
    "collapsed": true
   },
   "outputs": [],
   "source": [
    "def get_k_nearest(dists, k=3):\n",
    "    \"\"\"\n",
    "    Identifiy the K nearest neighbors to the vector we want to predict\n",
    "    \"\"\"\n",
    "    dists.sort(order=\"distance\")\n",
    "    return dists[:k]"
   ]
  },
  {
   "cell_type": "code",
   "execution_count": 20,
   "metadata": {
    "collapsed": true
   },
   "outputs": [],
   "source": [
    "k_nearest = get_k_nearest(dists=distances)"
   ]
  },
  {
   "cell_type": "code",
   "execution_count": 21,
   "metadata": {
    "collapsed": false
   },
   "outputs": [
    {
     "data": {
      "text/plain": [
       "array([(70, 0.29999999999999954), (51, 0.2999999999999998),\n",
       "       (4, 0.3162277660168373)], \n",
       "      dtype=[('index', '<i8'), ('distance', '<f8')])"
      ]
     },
     "execution_count": 21,
     "metadata": {},
     "output_type": "execute_result"
    }
   ],
   "source": [
    "k_nearest"
   ]
  },
  {
   "cell_type": "markdown",
   "metadata": {},
   "source": [
    "## Identifying the majority label our `k_nearest` elements share in common\n",
    "\n",
    "Remember, each element in `k_nearest` is a tuple: the 1st element in the index from the `X_train` vector and the 2nd element is the distance between `X_test[0]` and that particular vector."
   ]
  },
  {
   "cell_type": "code",
   "execution_count": 22,
   "metadata": {
    "collapsed": false
   },
   "outputs": [
    {
     "name": "stdout",
     "output_type": "stream",
     "text": [
      "The y_train values at index [70, 51, 4] are 0, 0 and 0.\n"
     ]
    }
   ],
   "source": [
    "note = \"The y_train values at index {} are {}, {} and {}.\".format(list(k_nearest[\"index\"]),\n",
    "                                                                 y_train[70],\n",
    "                                                                 y_train[51],\n",
    "                                                                 y_train[4])\n",
    "print(note)"
   ]
  },
  {
   "cell_type": "markdown",
   "metadata": {},
   "source": [
    "Let's build a function that subsets `y_train` to only those labels that share the same `index` values in `k_nearest`. \n",
    "\n",
    "Afterwards, obtain the total counts for each label by using [`np.bincount()`](https://docs.scipy.org/doc/numpy/reference/generated/numpy.bincount.html). Since we're interested in the label that is shared by the majority of elements in `k_nearest`, keep only the label with the highest overall count in counts by using [`np.argmax()`](https://docs.scipy.org/doc/numpy/reference/generated/numpy.argmax.html)."
   ]
  },
  {
   "cell_type": "code",
   "execution_count": 23,
   "metadata": {
    "collapsed": false
   },
   "outputs": [
    {
     "data": {
      "text/plain": [
       "[70, 51, 4]"
      ]
     },
     "execution_count": 23,
     "metadata": {},
     "output_type": "execute_result"
    }
   ],
   "source": [
    "k_nearest_list_index = list(k_nearest[\"index\"])\n",
    "k_nearest_list_index"
   ]
  },
  {
   "cell_type": "code",
   "execution_count": 24,
   "metadata": {
    "collapsed": false
   },
   "outputs": [
    {
     "data": {
      "text/plain": [
       "[0, 0, 0]"
      ]
     },
     "execution_count": 24,
     "metadata": {},
     "output_type": "execute_result"
    }
   ],
   "source": [
    "labels = [y_train[i] for i in k_nearest_list_index]\n",
    "labels"
   ]
  },
  {
   "cell_type": "code",
   "execution_count": 25,
   "metadata": {
    "collapsed": false
   },
   "outputs": [
    {
     "data": {
      "text/plain": [
       "array([3])"
      ]
     },
     "execution_count": 25,
     "metadata": {},
     "output_type": "execute_result"
    }
   ],
   "source": [
    "counts = np.bincount(labels)\n",
    "counts"
   ]
  },
  {
   "cell_type": "code",
   "execution_count": 26,
   "metadata": {
    "collapsed": false
   },
   "outputs": [
    {
     "data": {
      "text/plain": [
       "0"
      ]
     },
     "execution_count": 26,
     "metadata": {},
     "output_type": "execute_result"
    }
   ],
   "source": [
    "np.argmax(counts)"
   ]
  },
  {
   "cell_type": "code",
   "execution_count": 27,
   "metadata": {
    "collapsed": true
   },
   "outputs": [],
   "source": [
    "def get_label_prediction(k_nearest):\n",
    "    \"\"\"\n",
    "    Identify which label the majority of the K nearest neighbors share\n",
    "    \"\"\"\n",
    "    k_nearest_list_index = list(k_nearest[\"index\"])\n",
    "    labels = [y_train[i] for i in k_nearest_list_index]\n",
    "    counts = np.bincount(labels)\n",
    "    \n",
    "    return np.argmax(counts)"
   ]
  },
  {
   "cell_type": "code",
   "execution_count": 28,
   "metadata": {
    "collapsed": false
   },
   "outputs": [
    {
     "data": {
      "text/plain": [
       "0"
      ]
     },
     "execution_count": 28,
     "metadata": {},
     "output_type": "execute_result"
    }
   ],
   "source": [
    "prediction = get_label_prediction(k_nearest)\n",
    "prediction"
   ]
  },
  {
   "cell_type": "markdown",
   "metadata": {},
   "source": [
    "## Summary\n",
    "\n",
    "Thanks for reading along! It's always good to break things and learn how to solve problems in another way. The cool thing about the knowing how to solve something one way is that you have a roadmap to follow as you're experimenting."
   ]
  }
 ],
 "metadata": {
  "anaconda-cloud": {},
  "kernelspec": {
   "display_name": "Python [default]",
   "language": "python",
   "name": "python3"
  },
  "language_info": {
   "codemirror_mode": {
    "name": "ipython",
    "version": 3
   },
   "file_extension": ".py",
   "mimetype": "text/x-python",
   "name": "python",
   "nbconvert_exporter": "python",
   "pygments_lexer": "ipython3",
   "version": "3.5.6"
  }
 },
 "nbformat": 4,
 "nbformat_minor": 1
}
