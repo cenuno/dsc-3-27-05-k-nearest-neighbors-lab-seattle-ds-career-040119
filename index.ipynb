{
 "cells": [
  {
   "cell_type": "markdown",
   "metadata": {},
   "source": [
    "# K-Nearest Neighbors - Lab\n",
    "\n",
    "## Introduction\n",
    "\n",
    "In this lesson, we'll build a simple version of a **_K-Nearest Neigbors Classifier_** from scratch, and train it to make predictions on a dataset!\n",
    "\n",
    "## Objectives\n",
    "\n",
    "You will be able to:\n",
    "\n",
    "* Implement a basic KNN algorithm from scratch\n",
    "\n",
    "## Getting Started\n",
    "\n",
    "We'll begin this lab by creating our classifier.  To keep things simple, we'll be using a helper function from the scipy library to calcluate euclidean distance for us--specifically, the `euclidean()` function from the `scipy.spatial.distance` module. Import this function in the cell below."
   ]
  },
  {
   "cell_type": "code",
   "execution_count": 1,
   "metadata": {
    "collapsed": true
   },
   "outputs": [],
   "source": [
    "from scipy.spatial.distance import euclidean as euc\n",
    "import numpy as np"
   ]
  },
  {
   "cell_type": "markdown",
   "metadata": {},
   "source": [
    "Great! Now, we'll need to define our `KNN` class. Since we don't need to do anything at initialization, we don't need to modify the `__init__` method at all.\n",
    "\n",
    "In the cell below:\n",
    "\n",
    "* Create an class called `KNN`.\n",
    "* This class should contain two empty methods--`fit`, and `predict`. (Set the body of both of these methods to `pass`)"
   ]
  },
  {
   "cell_type": "code",
   "execution_count": 2,
   "metadata": {
    "collapsed": true
   },
   "outputs": [],
   "source": [
    "class KNN(object):\n",
    "    def fit(self):\n",
    "        pass\n",
    "    \n",
    "    def predict(self):\n",
    "        pass"
   ]
  },
  {
   "cell_type": "markdown",
   "metadata": {},
   "source": [
    "## Completing the `fit` Method\n",
    "\n",
    "Recall from our previous lesson on KNN that when \"fitting\" a KNN classifier, all we're really doing is storing the points and their corresponding labels. There's no actual \"fitting\" involved here, since all we can do is store the data so that we can use it to calculate the nearest nighbors when the `predict` method is called.\n",
    "\n",
    "Our inputs for this function should be:\n",
    "\n",
    "* `self`, since this will be an instance method inside the `KNN` class.\n",
    "* `X_train`--A 2-dimensional array. Each of the internal arrays represents a _vector_ for a given point in space. \n",
    "* `y_train`--the corresponding labels for each vector in `X_train`. The label at `y_train[0]` is the label that corresponds to the vector at `X_train[0]`, and so on. \n",
    "\n",
    "In the cell below, complete the `fit` method."
   ]
  },
  {
   "cell_type": "code",
   "execution_count": 3,
   "metadata": {
    "collapsed": true
   },
   "outputs": [],
   "source": [
    "def fit(self, X_train, y_train):\n",
    "    self.X_train = X_train\n",
    "    self.y_train = y_train\n",
    "    \n",
    "# This line updates the knn.fit method to point to the function we've just written\n",
    "KNN.fit = fit"
   ]
  },
  {
   "cell_type": "markdown",
   "metadata": {},
   "source": [
    "### Helper Functions\n",
    "\n",
    "Next, we'll write two helper functions to make things easier for us when completing the `predict` function. The first helper function we'll write return an array containing the distance between a point we pass in and every point inside of `X_train`. \n",
    "\n",
    "In the cell below, complete the `_get_distances()` function. This function should:\n",
    "\n",
    "* Take in two arguments: `self` and `x`\n",
    "* Create an empty array to hold all the distances we're going to calculate\n",
    "* Enumerate through every item in `self.X_train`. For each item: \n",
    "    * Use the `euc()` function we imported to get the distance between x and the current point from `X_train`.\n",
    "    * Create a tuple containing the index and the distance (in that order!) and append it to our `distances` array.\n",
    "* Return the `distances` array when a distance has been generated for each item in `self.X_train`."
   ]
  },
  {
   "cell_type": "code",
   "execution_count": 4,
   "metadata": {
    "collapsed": true
   },
   "execution_count": 16,
   "metadata": {},
   "outputs": [],
   "source": [
    "def _get_distances(self, x):\n",
    "    \"\"\"\n",
    "    Calculate the Euclidean distance between the input array and every other vector in our training set\n",
    "    \"\"\"\n",
    "    # creating custom dtype of each tuple, \n",
    "    # where each element is named on the left hand side and\n",
    "    # the type of each element is specified on the right hand side\n",
    "    # see more: https://docs.scipy.org/doc/numpy/user/basics.rec.html#structured-datatype-creation\n",
    "    custom_dtype = np.dtype([(\"index\", \"int\"), (\"distance\", \"float64\")])\n",
    "    \n",
    "    distances = np.zeros(len(self.X_train), dtype=custom_dtype)\n",
    "    \n",
    "    for ind, val in enumerate(self.X_train):\n",
    "        dist_to_val = euc(x, val)\n",
    "        distances[ind] = (ind, dist_to_val)\n",
    "        \n",
    "    return distances\n",
    "\n",
    "\n",
    "# This line attaches the function we just created as a method to our KNN class.\n",
    "KNN._get_distances = _get_distances"
   ]
  },
  {
   "cell_type": "code",
   "execution_count": 59,
   "metadata": {},
   "outputs": [
    {
     "ename": "TypeError",
     "evalue": "_get_distances() missing 1 required positional argument: 'self'",
     "output_type": "error",
     "traceback": [
      "\u001b[0;31m\u001b[0m",
      "\u001b[0;31mTypeError\u001b[0mTraceback (most recent call last)",
      "\u001b[0;32m<ipython-input-59-ee658da216db>\u001b[0m in \u001b[0;36m<module>\u001b[0;34m()\u001b[0m\n\u001b[0;32m----> 1\u001b[0;31m \u001b[0m_get_distances\u001b[0m\u001b[0;34m(\u001b[0m\u001b[0mx\u001b[0m\u001b[0;34m=\u001b[0m\u001b[0mX_train\u001b[0m\u001b[0;34m[\u001b[0m\u001b[0;36m0\u001b[0m\u001b[0;34m]\u001b[0m\u001b[0;34m)\u001b[0m\u001b[0;34m\u001b[0m\u001b[0m\n\u001b[0m",
      "\u001b[0;31mTypeError\u001b[0m: _get_distances() missing 1 required positional argument: 'self'"
     ]
    }
   ],
   "source": [
    "_get_distances(x=X_train[0])"
   ]
  },
  {
   "cell_type": "code",
   "execution_count": 4,
   "metadata": {},
   "outputs": [
    {
     "data": {
      "text/plain": [
       "dtype([('index', '<i8'), ('distance', '<f8')])"
      ]
     },
     "execution_count": 4,
     "metadata": {},
     "output_type": "execute_result"
    }
   ],
   "source": [
    "custom_dtype = np.dtype([(\"index\", \"int\"), (\"distance\", \"float64\")])\n",
    "custom_dtype"
   ]
  },
  {
   "cell_type": "code",
   "execution_count": 5,
   "metadata": {},
   "outputs": [
    {
     "data": {
      "text/plain": [
       "array([(0, 0.), (0, 0.), (0, 0.), (0, 0.)],\n",
       "      dtype=[('index', '<i8'), ('distance', '<f8')])"
      ]
     },
     "execution_count": 5,
     "metadata": {},
     "output_type": "execute_result"
    }
   ],
   "source": [
    "taco = np.zeros([4], dtype=custom_dtype)\n",
    "taco"
   ]
  },
  {
   "cell_type": "code",
   "execution_count": 6,
   "metadata": {},
   "outputs": [
    {
     "data": {
      "text/plain": [
       "array([(0, 2.2), (1, 6.5), (2, 1.1), (3, 7.7)],\n",
       "      dtype=[('index', '<i8'), ('distance', '<f8')])"
      ]
     },
     "execution_count": 6,
     "metadata": {},
     "output_type": "execute_result"
    }
   ],
   "source": [
    "taco[0] = (0, 2.2)\n",
    "taco[1] = (1, 6.5)\n",
    "taco[2] = (2, 1.1)\n",
    "taco[3] = (3, 7.7)\n",
    "taco"
   ]
  },
  {
   "cell_type": "code",
   "execution_count": 9,
   "metadata": {},
   "outputs": [],
   "source": [
    "taco.sort(order=\"distance\")"
   ]
  },
  {
   "cell_type": "code",
   "execution_count": 10,
   "metadata": {},
   "outputs": [
    {
     "data": {
      "text/plain": [
       "array([(2, 1.1), (0, 2.2), (1, 6.5), (3, 7.7)],\n",
       "      dtype=[('index', '<i8'), ('distance', '<f8')])"
      ]
     },
     "execution_count": 10,
     "metadata": {},
     "output_type": "execute_result"
    }
   ],
   "source": [
    "taco"
   ]
  },
  {
   "cell_type": "code",
   "execution_count": 13,
   "metadata": {
    "scrolled": true
   },
   "outputs": [
    {
     "data": {
      "text/plain": [
       "array([(2, 1.1), (0, 2.2), (1, 6.5)],\n",
       "      dtype=[('index', '<i8'), ('distance', '<f8')])"
      ]
     },
     "execution_count": 13,
     "metadata": {},
     "output_type": "execute_result"
    }
   ],
   "source": [
    "taco[:3]"
   ]
  },
  {
   "cell_type": "code",
   "execution_count": null,
   "metadata": {},
   "outputs": [],
   "source": []
  },
  {
   "cell_type": "code",
   "execution_count": 15,
   "metadata": {},
   "outputs": [
    {
     "name": "stdout",
     "output_type": "stream",
     "text": [
      "1.1\n",
      "2.2\n",
      "6.5\n"
     ]
    }
   ],
   "source": [
    "for i in taco[:3]:\n",
    "    print(i[1])"
   ]
  },
  {
   "cell_type": "markdown",
   "metadata": {},
   "source": [
    "Great! The second big challenge in a `predict` method is getting the indices of the k-nearest points. To keep our coming `predict` method nice and clean, we'll abstract this functionality into a helper method called `_get_k_nearest`.  \n",
    "\n",
    "In the cell below, complete the `_get_k_nearest` function.  This function should:\n",
    "\n",
    "* Take in 3 arguments:\n",
    "    * `self`\n",
    "    * `dists`, an array of tuples containing (index, distance), which will be output from the `_get_distances` method. \n",
    "    * `k`, the number of nearest neighbors we want to return.\n",
    "* Sort our `dists` array by distances values, which are the second element in each tuple\n",
    "* Return the first `k` tuples from then (now sorted) `dists` array.\n",
    "\n",
    "**_Hint:_** To easily sort on the second item in the tuples contained within the `dists` array, use the `sorted` function and pass in lambda for the `key=` parameter. To sort on the second element of each tuple, we can just use `key=lambda x: x[1]`!"
   ]
  },
  {
   "cell_type": "code",
   "execution_count": 17,
   "metadata": {},
   "outputs": [],
   "source": [
    "def _get_k_nearest(self, dists, k):\n",
    "    \"\"\"\n",
    "    Identifiy the K nearest neighbors to the vector we want to predict\n",
    "    \"\"\"\n",
    "    dists.sort(order=\"distance\")\n",
    "    return dists[:k]\n",
    "\n",
    "# This line attaches the function we just created as a method to our KNN class.\n",
    "KNN._get_k_nearest = _get_k_nearest"
   ]
  },
  {
   "cell_type": "markdown",
   "metadata": {},
   "source": [
    "Now, we have helper functions to help us get the distances, and then get the k-nearest neighbors based on those distances. The final helper function we'll create will help us get the labels that correspond to each of the k-nearest point, and return the class that occurs the most. \n",
    "\n",
    "Complete the `_get_label_prediction()` function in the cell below. This function should:\n",
    "\n",
    "* Create a list containing the labels from `self.y_train` for each index in `k_nearest` (remember, each item in `k_nearest` is a tuple, and the index is stored as the first item in each tuple)\n",
    "* Get the total counts for each label (use `np.bincount()` and pass in the label array created in the previous step)\n",
    "* Get the index of the label with the highest overall count in counts (use `np.argmax()` for this, and pass in the counts created in the previous step)."
   ]
  },
  {
   "cell_type": "code",
   "execution_count": 27,
   "metadata": {},
   "outputs": [],
   "source": [
    "def _get_label_prediction(self, k_nearest):\n",
    "    \"\"\"\n",
    "    Identify which label the majority of the K nearest neighbors share\n",
    "    \"\"\"\n",
    "    k_nearest_list_index = list(k_nearest[\"index\"])\n",
    "    labels = [self.y_train[i] for i in k_nearest_list_index]\n",
    "    counts = np.bincount(labels)\n",
    "    \n",
    "    return np.argmax(counts)\n",
    "\n",
    "# This line attaches the function we just created as a method to our KNN class.\n",
    "KNN._get_label_prediction = _get_label_prediction"
   ]
  },
  {
   "cell_type": "code",
   "execution_count": 47,
   "metadata": {},
   "outputs": [
    {
     "data": {
      "text/plain": [
       "112"
      ]
     },
     "execution_count": 47,
     "metadata": {},
     "output_type": "execute_result"
    }
   ],
   "source": [
    "len(y_train)"
   ]
  },
  {
   "cell_type": "code",
   "execution_count": 56,
   "metadata": {},
   "outputs": [],
   "source": [
    "baco = [0] * 300"
   ]
  },
  {
   "cell_type": "code",
   "execution_count": 58,
   "metadata": {
    "scrolled": true
   },
   "outputs": [
    {
     "data": {
      "text/plain": [
       "300"
      ]
     },
     "execution_count": 58,
     "metadata": {},
     "output_type": "execute_result"
    }
   ],
   "source": [
    "zaco = [y_train[i] for i in baco]\n",
    "len(zaco)"
   ]
  },
  {
   "cell_type": "code",
   "execution_count": 45,
   "metadata": {},
   "outputs": [
    {
     "name": "stdout",
     "output_type": "stream",
     "text": [
      "2\n",
      "0\n",
      "1\n"
     ]
    }
   ],
   "source": [
    "for i, _ in taco[:3]:\n",
    "    print(i)"
   ]
  },
  {
   "cell_type": "code",
   "execution_count": 24,
   "metadata": {
    "scrolled": true
   },
   "outputs": [
    {
     "data": {
      "text/plain": [
       "[0, 0, 1]"
      ]
     },
     "execution_count": 24,
     "metadata": {},
     "output_type": "execute_result"
    }
   ],
   "source": [
    "[y_train[i] for i in [j[0] for j in taco[:3]]]"
   ]
  },
  {
   "cell_type": "code",
   "execution_count": 37,
   "metadata": {},
   "outputs": [
    {
     "data": {
      "text/plain": [
       "[0, 0]"
      ]
     },
     "execution_count": 37,
     "metadata": {},
     "output_type": "execute_result"
    }
   ],
   "source": [
    "[y_train[i] for i in [0, 4]]"
   ]
  },
  {
   "cell_type": "code",
   "execution_count": 26,
   "metadata": {},
   "outputs": [
    {
     "data": {
      "text/plain": [
       "[2, 0, 1]"
      ]
     },
     "execution_count": 26,
     "metadata": {},
     "output_type": "execute_result"
    }
   ],
   "source": [
    "[j[0] for j in taco[:3]]"
   ]
  },
  {
   "cell_type": "code",
   "execution_count": 25,
   "metadata": {},
   "outputs": [
    {
     "data": {
      "text/plain": [
       "array([0, 1, 0, 1, 0, 2, 1, 1, 0, 1, 0, 0, 2, 0, 2, 1, 2, 0, 0, 2, 0, 1,\n",
       "       2, 2, 0, 1, 0, 2, 2, 0, 2, 1, 1, 0, 2, 1, 1, 1, 2, 1, 2, 2, 1, 2,\n",
       "       1, 0, 0, 2, 1, 2, 2, 0, 0, 2, 1, 1, 1, 1, 2, 2, 2, 2, 1, 1, 2, 1,\n",
       "       0, 2, 0, 0, 0, 2, 0, 1, 1, 0, 1, 1, 1, 1, 1, 1, 2, 1, 1, 1, 0, 1,\n",
       "       1, 2, 1, 0, 1, 1, 1, 2, 0, 0, 2, 2, 2, 0, 1, 0, 2, 2, 0, 0, 0, 0,\n",
       "       2, 1])"
      ]
     },
     "execution_count": 25,
     "metadata": {},
     "output_type": "execute_result"
    }
   ],
   "source": [
    "y_train"
   ]
  },
  {
   "cell_type": "code",
   "execution_count": 19,
   "metadata": {},
   "outputs": [
    {
     "data": {
      "text/plain": [
       "[2, 0, 1, 3]"
      ]
     },
     "execution_count": 19,
     "metadata": {},
     "output_type": "execute_result"
    }
   ],
   "source": [
    "[x[0] for x in taco]"
   ]
  },
  {
   "cell_type": "code",
   "execution_count": 50,
   "metadata": {
    "scrolled": true
   },
   "outputs": [
    {
     "data": {
      "text/plain": [
       "array([[[0. , 1.1]]])"
      ]
     },
     "execution_count": 50,
     "metadata": {},
     "output_type": "execute_result"
    }
   ],
   "source": [
    "taco[:3][]"
   ]
  },
  {
   "cell_type": "markdown",
   "metadata": {},
   "source": [
    "Great! Now, we need to complete the `predict` method. This will be much simpler, now that we have some \n",
    "\n",
    "## Completing the `predict` Method\n",
    "\n",
    "This method does all the heavy lifting for KNN, so this will be a bit more complex than our `fit` method. Let's examine how this method should work, so that we'll have a better idea of how to write it.\n",
    "\n",
    "1. The function takes in an array of vectors that we want predictions for.\n",
    "1. For each vector that we want to make a prediction for: \n",
    "    1a. The classifier calculates the distance between that vector and every other vector in our training set. \n",
    "    1b. The classifier identifies the K nearest vectors to the vector we want a prediction for.\n",
    "    1c. The classifier determines which label the majority of the K nearest neighbors share, and appends this prediction to an array we will output. The index of the prediction in this array should be the same as the index of the point that it corresponds to (e.g. `pred[0]` is the prediction for `X_test[0]`).\n",
    "2. Once predictions have been generated for every vector in question, return the array of predictions. \n",
    "\n",
    "This tells us a few things about what our `predict` function will need to be able to do:\n",
    "\n",
    "* In addition to `self`, our `predict` function should take in two arguments: \n",
    "    * `X_test`, the points we want to classify\n",
    "    * `k`, which specifies the number of neighbors we should use to make the classification.  We'll set `k=3` as a default, but allow the user to update it if they choose.\n",
    "* Our method will need to iterate through every item in `X_test`. For each item:\n",
    "    * Calculate the distance to all points in `X_train` by using our `_get_distances()` helper method we created.\n",
    "    * Find the k-nearest points in `X_train` by using the `_get_k_nearest()` helper method we created\n",
    "    * Use the index values contained within the tuples returned by `_get_k_nearest()` to get the corresponding labels for each of the nearest points. \n",
    "    * Determine which class is most represented in these labels and treat that as the prediction for this point. Append the prediction to `preds`.\n",
    "* Once a prediction has been generated for every item in `X_test`, return `preds`\n",
    "\n",
    "Follow these instructions to complete the `predict()` method in the cell below!"
   ]
  },
  {
   "cell_type": "code",
   "execution_count": 32,
   "metadata": {},
   "outputs": [],
   "source": [
    "def predict(self, X_test, k=3):\n",
    "    preds = []\n",
    "    # Iterate through each item in X_test\n",
    "    for vector in X_test:\n",
    "        # Get distances between each vector in X_test and every vector in in X_train\n",
    "        dists = self._get_distances(vector)\n",
    "        k_nearest = self._get_k_nearest(dists, k)\n",
    "        predicted_label = self._get_label_prediction(k_nearest)\n",
    "        preds.append(predicted_label)\n",
    "        \n",
    "    return preds\n",
    "        \n",
    "KNN.predict = predict"
   ]
  },
  {
   "cell_type": "code",
   "execution_count": 39,
   "metadata": {},
   "outputs": [
    {
     "data": {
      "text/plain": [
       "array([4.4, 3.2, 1.3, 0.2])"
      ]
     },
     "execution_count": 39,
     "metadata": {},
     "output_type": "execute_result"
    }
   ],
   "source": [
    "X_test[0]"
   ]
  },
  {
   "cell_type": "code",
   "execution_count": 40,
   "metadata": {},
   "outputs": [
    {
     "data": {
      "text/plain": [
       "0"
      ]
     },
     "execution_count": 40,
     "metadata": {},
     "output_type": "execute_result"
    }
   ],
   "source": [
    "y_test[0]"
   ]
  },
  {
   "cell_type": "markdown",
   "metadata": {},
   "source": [
    "Great! Now, let's try out our new KNN classifier on a sample dataset to see how well it works!\n",
    "\n",
    "## Testing Our KNN Classifier\n",
    "\n",
    "In order to test the performance of our model, we're going to import the **_Iris Dataset_**. Specifically, we'll use the `load_iris` function, which can be found inside of the `sklearn.datasets` module. We'll then call this function, and use the object it returns. We'll also import `train_test_split` from `sklearn.model_selection`, as well as `accuracy_score` from `sklearn.metrics`.  Note that there are **_3 classes_** in the Iris Dataset, making this a multicategorical classification problem. This means that we can't use evaluation metrics that are meant for binary classification problems. For this, we'll just stick to accuracy. \n",
    "\n",
    "Run the cell below to import everything we'll need from sklearn to test our model. "
   ]
  },
  {
   "cell_type": "code",
   "execution_count": 8,
   "metadata": {
    "collapsed": false
   },
   "outputs": [
    {
     "name": "stderr",
     "output_type": "stream",
     "text": [
      "/Users/cristiannuno/ENTER/lib/python3.5/site-packages/sklearn/utils/fixes.py:313: FutureWarning: numpy not_equal will not check object identity in the future. The comparison did not return the same result as suggested by the identity (`is`)) and will change.\n",
      "  _nan_object_mask = _nan_object_array != _nan_object_array\n"
     ]
    }
   ],
   "source": [
    "from sklearn.datasets import load_iris\n",
    "from sklearn.model_selection import train_test_split\n",
    "from sklearn.metrics import accuracy_score\n",
    "\n",
    "iris = load_iris()\n",
    "data = iris.data\n",
    "target = iris.target"
   ]
  },
  {
   "cell_type": "raw",
   "metadata": {},
   "source": []
  },
  {
   "cell_type": "code",
   "execution_count": 21,
   "metadata": {},
   "outputs": [
    {
     "data": {
      "text/plain": [
       "array([0, 0, 0, 0, 0, 0, 0, 0, 0, 0, 0, 0, 0, 0, 0, 0, 0, 0, 0, 0, 0, 0,\n",
       "       0, 0, 0, 0, 0, 0, 0, 0, 0, 0, 0, 0, 0, 0, 0, 0, 0, 0, 0, 0, 0, 0,\n",
       "       0, 0, 0, 0, 0, 0, 1])"
      ]
     },
     "execution_count": 21,
     "metadata": {},
     "output_type": "execute_result"
    }
   ],
   "source": [
    "target[:51]"
   ]
  },
  {
   "cell_type": "markdown",
   "metadata": {},
   "source": [
    "Now, you'll need to use `train_test_split` to split our training data into training and testing sets. Pass in the `data`, the `target`, and set a `test_size` of `0.25`."
   ]
  },
  {
   "cell_type": "code",
   "execution_count": 9,
   "metadata": {
    "collapsed": true
   },
   "outputs": [],
   "source": [
    "X_train, X_test, y_train, y_test = train_test_split(data,\n",
    "                                                    target,\n",
    "                                                    test_size=0.25,\n",
    "                                                    random_state=2019)"
   ]
  },
  {
   "cell_type": "markdown",
   "metadata": {},
   "source": [
    "Now, instantiate a knn object, and `fit` it to the data in `X_train` and the labels in `y_train`."
   ]
  },
  {
   "cell_type": "code",
   "execution_count": 10,
   "metadata": {
    "collapsed": true
   },
   "outputs": [],
   "source": [
    "knn = KNN()\n",
    "knn.fit(X_train, y_train)"
   ]
  },
  {
   "cell_type": "markdown",
   "metadata": {},
   "source": [
    "Now, we'll create some predictions on our testing data.  In the cell below, use the `.predict()` method to generate predictions for the data stored in `X_test`."
   ]
  },
  {
   "cell_type": "code",
   "execution_count": 11,
   "metadata": {
    "collapsed": true
   },
   "outputs": [],
   "source": [
    "preds = knn.predict(X_test)",
  {
   "cell_type": "code",
   "execution_count": 43,
   "metadata": {},
   "outputs": [
    {
     "data": {
      "text/plain": [
       "array([0, 0, 2, 1, 2, 0, 2, 0, 1, 2, 2, 2, 2, 1, 0, 1, 2, 1, 0, 2, 0, 2,\n",
       "       0, 1, 0, 0, 1, 2, 0, 0, 2, 0, 0, 2, 2, 0, 0, 2])"
      ]
     },
     "execution_count": 43,
     "metadata": {},
     "output_type": "execute_result"
    }
   ],
   "source": [
    "np.array(preds)"
   ]
  },
  {
   "cell_type": "code",
   "execution_count": 44,
   "metadata": {},
   "outputs": [
    {
     "data": {
      "text/plain": [
       "array([0, 0, 2, 1, 2, 0, 2, 0, 1, 2, 2, 2, 2, 1, 0, 1, 2, 1, 0, 2, 0, 2,\n",
       "       0, 1, 0, 0, 1, 2, 0, 0, 2, 0, 0, 2, 2, 0, 0, 2])"
      ]
     },
     "execution_count": 44,
     "metadata": {},
     "output_type": "execute_result"
    }
   ],
   "source": [
    "y_test"
   ]
  },
  {
   "cell_type": "markdown",
   "metadata": {},
   "source": [
    "And now, for the moment of truth! Let's test the accuracy of our predictions. In the cell below, complete the call to `accuracy_score` by passing in `y_test` and our `preds`!"
   ]
  },
  {
   "cell_type": "code",
   "execution_count": 12,
   "metadata": {
    "collapsed": false
   },
   "outputs": [
    {
     "name": "stdout",
     "output_type": "stream",
     "text": [
      "Testing Accuracy: 1.0\n"
     ]
    }
   ],
   "source": [
    "print(\"Testing Accuracy: {}\".format(accuracy_score(y_test, preds)))"
   ]
  },
  {
   "cell_type": "markdown",
   "metadata": {},
   "source": [
    "100% accuracy is dangerous. Need to test this handwritten machine learning classifier with methods in other modules!"
   ]
  },
  {
   "cell_type": "markdown",
   "metadata": {},
   "source": [
    "## Summary\n",
    "\n",
    "That was great! In what's next, you'll dive a little deeper into evaluating performance of a KNN algorithm!"
   ]
  }
 ],
 "metadata": {
  "anaconda-cloud": {},
  "kernelspec": {
   "display_name": "Python [default]",
   "language": "python",
   "name": "python3"
  },
  "language_info": {
   "codemirror_mode": {
    "name": "ipython",
    "version": 3
   },
   "file_extension": ".py",
   "mimetype": "text/x-python",
   "name": "python",
   "nbconvert_exporter": "python",
   "pygments_lexer": "ipython3",
   "version": "3.5.6"
  }
 },
 "nbformat": 4,
 "nbformat_minor": 2
}
